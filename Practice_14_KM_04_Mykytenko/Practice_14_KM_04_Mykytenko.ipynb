{
  "nbformat": 4,
  "nbformat_minor": 0,
  "metadata": {
    "colab": {
      "name": "Practice_14_KM_01.ipynb",
      "provenance": [],
      "collapsed_sections": []
    },
    "kernelspec": {
      "name": "python3",
      "display_name": "Python 3.8.6 64-bit",
      "metadata": {
        "interpreter": {
          "hash": "ac8bda692c3b0f02ccc575452ef66df3a4b08193edb2b4a0ea8482d7cac1bc35"
        }
      }
    }
  },
  "cells": [
    {
      "cell_type": "markdown",
      "metadata": {
        "id": "FMqboNwO4rVs"
      },
      "source": [
        "# **Курс \"Програмування на мові Python\"**\n",
        "\n",
        "##### Викладачі:\n",
        "##### Борисенко Павло Борисович\n",
        "##### Щьоголєв Максим Олегович\n"
      ]
    },
    {
      "cell_type": "markdown",
      "metadata": {
        "id": "A2T6MigL5Z06"
      },
      "source": [
        "## **Практичне зайняття №14**\n",
        "\n",
        "### Тема: \"Робота з файлами\""
      ]
    },
    {
      "cell_type": "markdown",
      "metadata": {
        "id": "cfCdgK2zXm7e"
      },
      "source": [
        "### **Завдання 1 (1,5 бали)**\n",
        "\n",
        "У 1939 році друком вийшов роман американського письменика Ернеста Вінсента Райта \"Ґедсбі\". Особливу увагу публіки він здобув через те, що письменник жодного разу не використав у романі літеру \"e\" (роман складається з більше ніж 50,000 слів), яка є найбільш вживаною літерою в англійській мові.\n",
        "\n",
        "Порахуйте кількість входжень кожної літери у текст роману. Виведіть список літер англійського алфавіту, а також інформацію про те, скільки відсотків від усіх літер тексту складає кожна літера алфавіту.\n",
        "\n",
        "Зауваження:\n",
        "\n",
        "1. Програма має ігнорувати будь-які символи, окрім літер.\n",
        "\n",
        "2. Переведіть усі літери у верхній або у нижній регістр.\n",
        "\n",
        "3. Під час виведення відсортуйте літери у порядку зменшення їхнього відсотка. Літера \"e\" має стояти на останньому місці у цьому списку.\n",
        "\n",
        "4. Виведіть перші 5 та останні 5 літер відсортованого списку разом з відсотковими значеннями, що їм відповідають."
      ]
    },
    {
      "cell_type": "code",
      "metadata": {
        "tags": [],
        "id": "u4-fHJJ6U462"
      },
      "source": [
        "#generate dictionary that look {'a':0,\n",
        "#                               'b':0,\n",
        "#                               'c':0,\n",
        "#                               ...,\n",
        "#                               'z':0,\n",
        "#                               }\n",
        "dic = {}\n",
        "for i in range(97,123):\n",
        "    dic[chr(i)] = 0\n",
        "count_letter = 0\n",
        "#read gadsby.txt \n",
        "with open(\"gadsby.txt\",\"r\") as book:\n",
        "    for s in book.read():\n",
        "        if s.isalpha():\n",
        "            count_letter += 1\n",
        "            dic[s.lower()] += 1\n",
        "lst = list(dic.items())\n",
        "#sort\n",
        "for n in range(25):\n",
        "    pos = n\n",
        "    for j in range(n, 26):\n",
        "        if lst[pos][1] < lst[j][1]:\n",
        "            pos = j\n",
        "    else:\n",
        "        lst[n], lst[pos] = lst[pos], lst[n]\n",
        "else:\n",
        "    del lst[5:21]\n",
        "#output\n",
        "for s, c in lst:\n",
        "    print(\"%.4f%s складає буква %s у тексті\" % (c / count_letter * 100,'%',s))"
      ],
      "execution_count": 15,
      "outputs": [
        {
          "output_type": "stream",
          "name": "stdout",
          "text": [
            "10.9521% складає буква a у тексті\n10.4189% складає буква o у тексті\n8.8254% складає буква i у тексті\n8.5972% складає буква n у тексті\n8.4940% складає буква t у тексті\n0.2296% складає буква j у тексті\n0.1075% складає буква z у тексті\n0.0792% складає буква x у тексті\n0.0514% складає буква q у тексті\n0.0019% складає буква e у тексті\n"
          ]
        }
      ]
    },
    {
      "cell_type": "markdown",
      "metadata": {
        "id": "A34oz70eU463"
      },
      "source": [
        "### **Завдання 2 (1,5 бали)**\n",
        "\n",
        "Створіть CSV-файл, що буде містити від 5 до 10 пісень (творів) вашого улюбленого музиканта. Назва файлу - ім'я музиканта (композитора) або назва гурту.\n",
        "\n",
        "1. Обов'язково додайте до файлу рядок з назвами двох колонок (Song, Year) або (Composition, Year).\n",
        "\n",
        "2. Після запису файлу роздрукуйте назву файлу та усі наявні у файлі рядки (включно із заголовками).\n",
        "\n",
        "3. Для запису та зчитування рядків скористайтесь функціями csv.DictWriter() та csv.DictReader()."
      ]
    },
    {
      "cell_type": "code",
      "metadata": {
        "id": "MEJIrG1GU463"
      },
      "source": [
        "import csv\n",
        "\n",
        "with open(\"Imagine Dragons.csv\",\"w\") as myfavgroup:\n",
        "    fieldnames = ['song', 'year']\n",
        "    writer = csv.DictWriter(myfavgroup, fieldnames=fieldnames)\n",
        "    writer.writeheader()\n",
        "    writer.writerow({'song':'Thunder',\n",
        "                     'year': 2017\n",
        "                     })\n",
        "    writer.writerow({'song':'Believer',\n",
        "                     'year': 2017\n",
        "                     })\n",
        "    writer.writerow({'song':'Natural',\n",
        "                     'year': 2018\n",
        "                     })\n",
        "    writer.writerow({'song':'Radioactive',\n",
        "                     'year': 2012\n",
        "                     })\n",
        "    writer.writerow({'song':\"it's time\",\n",
        "                     'year': 2012\n",
        "                     })\n",
        "with open(\"Imagine Dragons.csv\",\"r\") as myfavgroup:\n",
        "    print(myfavgroup.name)\n",
        "    reader = csv.DictReader(myfavgroup, fieldnames=fieldnames)\n",
        "    for row in reader:\n",
        "        print(row['song'], row['year'])"
      ],
      "execution_count": 19,
      "outputs": [
        {
          "output_type": "stream",
          "name": "stdout",
          "text": [
            "Imagine Dragons.csv\nsong year\nThunder 2017\nBeliever 2017\nNatural 2018\nRadioactive 2012\nit's time 2012\n"
          ]
        }
      ]
    },
    {
      "cell_type": "markdown",
      "metadata": {
        "id": "Jb-eSBsWU464"
      },
      "source": [
        "### **Завдання 3 (бонусне, 1 бал)**\n",
        "\n",
        "COCO Dataset - набір фотографій та анотацій до них. Його дуже часто використовують для тренування класифікаторів, призначених для розпізнавання об'єктів та визначення ключових точок на зображеннях.\n",
        "\n",
        "Завантажте файли з описом фотографій COCO Dataset за посиланням: http://images.cocodataset.org/annotations/image_info_test2017.zip\n",
        "\n",
        "1. Відкрийте файл image_info_test-dev2017.json. Інформація про фотографії з бази COCO міститься у полі \"images\". Інформація про категорії, на які розділені всі фотографії, міститься у полі \"categories\".\n",
        "\n",
        "2. Визначте кількість фотографій, інформацію про які можна знайти у цьому файлі (кількість елементів, що відповідають ключу \"images\").\n",
        "\n",
        "3. Визначте кількість наявних категорій (кількість елементів, що відповідають ключу \"categories\").\n",
        "\n",
        "4. Виведіть посилання на фотографію 000000000001.jpg (\"coco_url\"), висоту цієї фотографії (\"height\"), ширину (\"width\") та її ідентифікатор (\"id\").\n",
        "\n",
        "5. Опис структури JSON-файлу для набору фотографій COCO можна знайти за посиланням: https://cocodataset.org/#format-data\n",
        "\n",
        "6. Щоб перевірити правильність результатів, у VS Code встановіть розширення JSON та відкрийте файл image_info_test-dev2017.json. Розширення автоматично визначає кількість елементів у кожному полі."
      ]
    },
    {
      "cell_type": "code",
      "metadata": {
        "id": "74C6WKB_U464"
      },
      "source": [],
      "execution_count": null,
      "outputs": []
    }
  ]
}