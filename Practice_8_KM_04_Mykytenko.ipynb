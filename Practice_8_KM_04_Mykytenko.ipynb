{
  "nbformat": 4,
  "nbformat_minor": 0,
  "metadata": {
    "colab": {
      "name": "Practice_7_KM-01_.ipynb",
      "provenance": [],
      "collapsed_sections": []
    },
    "kernelspec": {
      "name": "python3",
      "display_name": "Python 3.8.6 64-bit",
      "metadata": {
        "interpreter": {
          "hash": "ac8bda692c3b0f02ccc575452ef66df3a4b08193edb2b4a0ea8482d7cac1bc35"
        }
      }
    }
  },
  "cells": [
    {
      "cell_type": "markdown",
      "metadata": {
        "id": "FMqboNwO4rVs"
      },
      "source": [
        "# **Курс \"Програмування на мові Python\"**\n",
        "\n",
        "##### Викладачі:\n",
        "##### Борисенко Павло Борисович\n",
        "##### Щьоголєв Максим Олегович\n"
      ]
    },
    {
      "cell_type": "markdown",
      "metadata": {
        "id": "A2T6MigL5Z06"
      },
      "source": [
        "## **Практичне зайняття №8**\n",
        "\n",
        "### Тема: \"Робота з функціями. Локальні та глобальні змінні\""
      ]
    },
    {
      "cell_type": "markdown",
      "metadata": {
        "id": "cfCdgK2zXm7e"
      },
      "source": [
        "### **Завдання 1 (3 бали)**\n",
        "\n",
        "**Підрахувати визначник матриці, використовуючи правило перестановок.**\n",
        "\n",
        "Функція random_matrix() призначена для створення квадратної матриці випадкових чисел. Її змінювати непотрібно.\n",
        "\n",
        "Приклад використання методу permutations() для створення списку перестановок також подається у комірці з кодом.\n",
        "\n",
        "1) Створити 3 функції: функцію створення списку перестановок, функцію підрахунку добутків та функцію підрахунку загальної суми.\n",
        "\n",
        "2) Кожна функція має супроводжуватись рядком документації, що буде коротко описувати її призначення.\n",
        "\n",
        "3) Розмірність квадратної матриці має вводитись користувачем з клавіатури. Підрахунки виконувати лише в тому разі, якщо користувач введе ціле додатне число.\n",
        "\n",
        "4) Загальний результат повинен підраховуватись за допомогою композиції функцій.\n",
        "\n",
        "За бажання можна перевірити правильність роботи програми за допомогою функції np.linalg.det(a)."
      ]
    },
    {
      "cell_type": "code",
      "metadata": {
        "id": "ifNX2M7LXm7f",
        "tags": []
      },
      "source": [
        "import numpy as np\n",
        "import itertools\n",
        "\n",
        "def random_matrix(dim):\n",
        "    \"\"\"\n",
        "    The function generates dim x dim array of integers\n",
        "    between 0 and 10.\n",
        "    \"\"\"\n",
        "    matrix = np.random.randint(10, size = (dim, dim))\n",
        "    return matrix\n",
        "\n",
        "def find_det(matrix):\n",
        "    \"\"\"\n",
        "    The function calculates subtotals \n",
        "    in the amount equal to det\n",
        "    \"\"\"\n",
        "\n",
        "    def subtotal(j):\n",
        "        \"\"\"The function generates multiplier use a order list \"\"\"\n",
        "\n",
        "        invert = 0\n",
        "        for p in range(len(j) - 1):\n",
        "            for q in range(p + 1, len(j)): \n",
        "                if j[p] > j[q]:\n",
        "                    invert += 1\n",
        "        multiplier = 1 if invert % 2 == 0 else -1\n",
        "        for k in range(len(j)):\n",
        "            multiplier *= matrix [k] [j[k]]\n",
        "        return multiplier\n",
        "\n",
        "    def perm(n):\n",
        "        \"\"\"The function generates list of permutations\"\"\"\n",
        "\n",
        "        return list(itertools.permutations([i for i in range(n)], n))\n",
        "\n",
        "    det = 0\n",
        "    if len(matrix) == 0:\n",
        "        return 0\n",
        "    for prog in perm(len(matrix)):\n",
        "        det += subtotal(prog)\n",
        "    return det\n",
        "\n",
        "if __name__ == \"__main__\":\n",
        "    dim = input(\"Enter size of matrix: \")\n",
        "    while not dim.isnumeric():\n",
        "        print(\"Error, this is not the case\")\n",
        "        dim = input(\"Enter again: \")\n",
        "    try:\n",
        "        dim = int(dim)\n",
        "        a = random_matrix(dim)\n",
        "        det = find_det(a)\n",
        "        print(a)\n",
        "        print(\"result: det(A) =\", det)\n",
        "    except ValueError as fail:\n",
        "        print(fail)\n",
        "\n",
        "\n",
        "\n",
        "\n"
      ],
      "execution_count": 42,
      "outputs": [
        {
          "output_type": "stream",
          "name": "stdout",
          "text": [
            "[[2 0 5 4 6]\n [6 0 0 5 9]\n [4 2 3 7 3]\n [4 7 8 7 2]\n [4 5 4 8 7]]\nresult: det(A) = -3712\n"
          ]
        }
      ]
    },
    {
      "cell_type": "code",
      "execution_count": null,
      "metadata": {},
      "outputs": [],
      "source": []
    }
  ]
}