{
  "nbformat": 4,
  "nbformat_minor": 0,
  "metadata": {
    "colab": {
      "name": "Practice_7_KM-01_.ipynb",
      "provenance": [],
      "collapsed_sections": []
    },
    "kernelspec": {
      "name": "python3",
      "display_name": "Python 3.8.6 64-bit",
      "metadata": {
        "interpreter": {
          "hash": "ac8bda692c3b0f02ccc575452ef66df3a4b08193edb2b4a0ea8482d7cac1bc35"
        }
      }
    }
  },
  "cells": [
    {
      "cell_type": "markdown",
      "metadata": {
        "id": "FMqboNwO4rVs"
      },
      "source": [
        "# **Курс \"Програмування на мові Python\"**\n",
        "\n",
        "##### Викладачі:\n",
        "##### Борисенко Павло Борисович\n",
        "##### Щьоголєв Максим Олегович\n"
      ]
    },
    {
      "cell_type": "markdown",
      "metadata": {
        "id": "A2T6MigL5Z06"
      },
      "source": [
        "## **Практичне зайняття №8**\n",
        "\n",
        "### Тема: \"Робота з функціями. Локальні та глобальні змінні\""
      ]
    },
    {
      "cell_type": "markdown",
      "metadata": {
        "id": "cfCdgK2zXm7e"
      },
      "source": [
        "### **Завдання 1 (3 бали)**\n",
        "\n",
        "**Підрахувати визначник матриці, використовуючи правило перестановок.**\n",
        "\n",
        "Функція random_matrix() призначена для створення квадратної матриці випадкових чисел. Її змінювати непотрібно.\n",
        "\n",
        "Приклад використання методу permutations() для створення списку перестановок також подається у комірці з кодом.\n",
        "\n",
        "1) Створити 3 функції: функцію створення списку перестановок, функцію підрахунку добутків та функцію підрахунку загальної суми.\n",
        "\n",
        "2) Кожна функція має супроводжуватись рядком документації, що буде коротко описувати її призначення.\n",
        "\n",
        "3) Розмірність квадратної матриці має вводитись користувачем з клавіатури. Підрахунки виконувати лише в тому разі, якщо користувач введе ціле додатне число.\n",
        "\n",
        "4) Загальний результат повинен підраховуватись за допомогою композиції функцій.\n",
        "\n",
        "За бажання можна перевірити правильність роботи програми за допомогою функції np.linalg.det(a)."
      ]
    },
    {
      "cell_type": "code",
      "metadata": {
        "id": "ifNX2M7LXm7f",
        "tags": []
      },
      "source": [
        "import numpy as np\n",
        "import itertools\n",
        "\n",
        "def random_matrix(dim):\n",
        "    \"\"\"\n",
        "    The function generates dim x dim array of integers\n",
        "    between 0 and 10.\n",
        "    \"\"\"\n",
        "    matrix = np.random.randint(10, size = (dim, dim))\n",
        "    return matrix\n",
        "\n",
        "def find_det(multipliers):\n",
        "    \"\"\"\n",
        "    The function calculates subtotals \n",
        "    in the amount equal to det\n",
        "    \"\"\"\n",
        "    multipliers_sum = 0\n",
        "    for x in multipliers:\n",
        "        multipliers_sum += x\n",
        "    return multipliers_sum\n",
        "\n",
        "\n",
        "def subtotal(list_order):\n",
        "    \"\"\"The function generates multipliers use a order list \"\"\"\n",
        "    global a\n",
        "    multipliers = []\n",
        "    n = len(a)\n",
        "    for order in list_order:\n",
        "        invert = 0\n",
        "        for p in range(n - 1):\n",
        "            for q in range(p + 1, n): \n",
        "                if order[p] > order[q]:\n",
        "                    invert += 1\n",
        "        multiplier = 1 if invert % 2 == 0 else -1\n",
        "        for k in range(n):\n",
        "            multiplier *= a [k] [order[k]]\n",
        "        else:\n",
        "            multipliers.append(multiplier)\n",
        "    return multipliers\n",
        "\n",
        "def perm():\n",
        "    \"\"\"The function generates list of permutations\"\"\"\n",
        "    global a\n",
        "    n = len(a)\n",
        "    return list(itertools.permutations([i for i in range(n)], n))\n",
        "\n",
        "dim = input(\"Enter size of matrix: \")\n",
        "while not dim.isnumeric():\n",
        "    print(\"Error, this is not the case\")\n",
        "    dim = input(\"Enter again: \")\n",
        "try:\n",
        "    dim = int(dim)\n",
        "    a = random_matrix(dim)\n",
        "    det = find_det(subtotal(perm()))\n",
        "    print(a)\n",
        "    print(\"result: det(A) =\", det)\n",
        "except ValueError as fail:\n",
        "    print(fail)\n",
        "\n",
        "\n",
        "\n",
        "\n"
      ],
      "execution_count": 34,
      "outputs": [
        {
          "output_type": "stream",
          "name": "stdout",
          "text": [
            "[[4 7 5]\n [9 0 0]\n [7 7 0]]\nresult: det(A) = 315\n315.0\n"
          ]
        }
      ]
    },
    {
      "cell_type": "code",
      "execution_count": null,
      "metadata": {},
      "outputs": [],
      "source": []
    }
  ]
}