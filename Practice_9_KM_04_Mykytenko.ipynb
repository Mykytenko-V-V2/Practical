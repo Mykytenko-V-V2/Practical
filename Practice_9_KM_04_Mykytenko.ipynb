{
  "nbformat": 4,
  "nbformat_minor": 0,
  "metadata": {
    "colab": {
      "name": "Practice_7_KM-01_.ipynb",
      "provenance": [],
      "collapsed_sections": []
    },
    "kernelspec": {
      "name": "python3",
      "display_name": "Python 3.8.6 64-bit",
      "metadata": {
        "interpreter": {
          "hash": "ac8bda692c3b0f02ccc575452ef66df3a4b08193edb2b4a0ea8482d7cac1bc35"
        }
      }
    }
  },
  "cells": [
    {
      "cell_type": "markdown",
      "metadata": {
        "id": "FMqboNwO4rVs"
      },
      "source": [
        "# **Курс \"Програмування на мові Python\"**\n",
        "\n",
        "##### Викладачі:\n",
        "##### Борисенко Павло Борисович\n",
        "##### Щьоголєв Максим Олегович\n"
      ]
    },
    {
      "cell_type": "markdown",
      "metadata": {
        "id": "A2T6MigL5Z06"
      },
      "source": [
        "## **Практичне зайняття №9**\n",
        "\n",
        "### Тема: \"Лямбда-функції. Функції вищих порядків\""
      ]
    },
    {
      "cell_type": "markdown",
      "metadata": {
        "id": "cfCdgK2zXm7e"
      },
      "source": [
        "### **Завдання 1 (1 бал)**\n",
        "\n",
        "Керівництво будівельної компанії вирішило підняти заробітні плати всім своїм працівникам на 30%. В залежності від спеціалізації та стажу працівники мають різну заробітну плату. Для підготовки звіту необхідно розрахувати нову заробітну плату для працівників компанії, а також суму індексації.\n",
        "\n",
        "Написати програму, яка буде генерувати таблицю для цього звіту. Початкова заробітна плата працівників подана у списку salary_list (у тисячах гривень). \n",
        "\n",
        "1. Для підрахунку невідомих значень повинні використовуватись вбудовані функції вищих порядків.\n",
        "\n",
        "2. Зарплата після індексації та сума індексації для працівників різних категорій повинні зберігатись у двох окремих списках. Порядок значень у кожному з нових списків повинен відповідати порядку значень у списку salary_list.\n",
        "\n",
        "3. Кожне підраховане числове значення має бути округлене до сотих.\n",
        "\n",
        "4. Дані повинні виводитись у вигляді:\n",
        "\n",
        "**Salary table:**\n",
        "\n",
        "**7.3 9.49 2.19**\n",
        "\n",
        "**8.5 11.05 2.55**\n",
        "\n",
        "**...**\n",
        "\n",
        "salary_list = [[7.3, 8.5, 11, 12.7, 15.2, 21.12, 27.35]]"
      ]
    },
    {
      "cell_type": "code",
      "metadata": {
        "id": "ifNX2M7LXm7f"
      },
      "source": [
        "#Intilization list of emploee salary\n",
        "salary_list = [7.3, 8.5, 11, 12.7, 15.2, 21.12, 27.35]\n",
        "#create new_salary_list and sum_indexation\n",
        "new_salary_list = list(map(lambda n: round(n * 1.3, 2), salary_list))       # create new_salary \n",
        "sum_indexation_list = list(map(lambda n: round(n / 100, 2), new_salary_list))         # create sum_indexation\n",
        "#output table\n",
        "print(\"Salary table:\", \"\\n\")\n",
        "for line in salary_list, new_salary_list, sum_indexation_list:\n",
        "    for column in line:\n",
        "        print(column, end=\"\\t\")\n",
        "    else:\n",
        "        print(\"\\n\")"
      ],
      "execution_count": 16,
      "outputs": [
        {
          "output_type": "stream",
          "name": "stdout",
          "text": [
            "Salary table: \n\n7.3\t8.5\t11\t12.7\t15.2\t21.12\t27.35\t\n\n9.49\t11.05\t14.3\t16.51\t19.76\t27.46\t35.55\t\n\n0.09\t0.11\t0.14\t0.17\t0.2\t0.27\t0.36\t\n\n"
          ]
        }
      ]
    },
    {
      "source": [
        "### **Завдання 2 (2 бали)**\n",
        "\n",
        "Зазвичай рік має 365 днів. Однак у високосні роки додається ще один день - 29 лютого. Правила визначення високосного року такі:\n",
        "\n",
        "- Будь-який рік, що ділиться на 400 - високосний.\n",
        "\n",
        "- З тих років, що залишились, будь-який рік, що ділиться на 100 - **не** високосний.\n",
        "\n",
        "- З тих років, що залишились, будь-який рік, що ділиться на 4 - високосний.\n",
        "\n",
        "- Усі інші роки, що залишились - **не** високосні.\n",
        "\n",
        "1) Створіть функцію, в якій за допомогою вбудованих функцій вищих порядків будуть визначатися високосні роки серед перелічених років у списку years. Створена функція має повертати список високосних років.\n",
        "\n",
        "2) Створіть функцію вищих порядків, яка прийматиме на вхід попередню функцію та визначатиме кількість днів у місяці. Також функція повинна приймати на вхід ще 2 параметри: ціле число від 1 до 12 (місяць) та рік, як ціле чотирицифрове число. Ці значення корисувач має вводити з клавіатури. Перевірку введених даних слід виконувати поза межами функцій."
      ],
      "cell_type": "markdown",
      "metadata": {}
    },
    {
      "cell_type": "code",
      "execution_count": 1,
      "metadata": {
        "tags": []
      },
      "outputs": [
        {
          "output_type": "stream",
          "name": "stdout",
          "text": [
            "Please, will enter a number from 1 to 12\n",
            "Please, will enter a number from 1000 to 9999\n",
            "In 2000 year,in 2th mounth have 29 days\n"
          ]
        }
      ],
      "source": [
        "import numpy as np\n",
        "\n",
        "years = np.arange(1900, 2020+1, 1)\n",
        "\n",
        "def h_years(years):\n",
        "    \"\"\"\n",
        "        The function is sort a list of years and return sorted a list\n",
        "    \"\"\"\n",
        "\n",
        "    #This function is checks the year  height\n",
        "    func = lambda n: n % 400 == 0  or n % 4 == 0 and not n % 100 == 0\n",
        "    \n",
        "    return list(filter(func, years))\n",
        "def countdays(func,mounth, year):\n",
        "    \"\"\"\n",
        "    The func is return a count days\n",
        "    \"\"\"\n",
        "\n",
        "    #This function returns a list of either one element or empty \n",
        "    h_year = lambda year: func([year,])\n",
        "\n",
        "    #This list days in mounth from January to December\n",
        "    daylist = [31, None, 31, 30, 31, 30, 31, 31, 30, 31, 30, 31]\n",
        "    # daylist[1] = 0, because Febril have 28 or 29 days\n",
        "    if daylist[mounth - 1]:\n",
        "        return daylist[mounth - 1]\n",
        "    elif h_year(year): \n",
        "        return 29\n",
        "    else:\n",
        "        return 28\n",
        "\n",
        "if __name__ == \"__main__\":\n",
        "    print(\"Please, will enter a number from 1 to 12\")\n",
        "    mounth = input(\"Enter month: \") \n",
        "    while not mounth.isdecimal() or mounth == \"0\":\n",
        "        print(\"Error, you are not entering a number from 1 to 12\")\n",
        "        mounth = input(\"Enter again mounth: \")\n",
        "    print(\"Please, will enter a number from 1000 to 9999\")\n",
        "    year = input(\"Enter year: \")\n",
        "    while not year.isdecimal() or len(year) != 4 or \"0000\" == year:\n",
        "        print(\"Error, you are not entering a number from 1000 to 9999\")\n",
        "        year = input(\"Enter again year: \")\n",
        "    days = countdays(h_years, int(mounth), int(year))\n",
        "    print(\"In {} year,in {}th mounth have {} days\".format(year, mounth, days))\n",
        " \n",
        "\n",
        "\n",
        "\n",
        "\n",
        "\n",
        "\n"
      ]
    },
    {
      "cell_type": "code",
      "execution_count": null,
      "metadata": {},
      "outputs": [],
      "source": []
    }
  ]
}