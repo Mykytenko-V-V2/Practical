{
  "nbformat": 4,
  "nbformat_minor": 0,
  "metadata": {
    "colab": {
      "name": "Pranctice_3_KM-01_<name>.ipynb",
      "provenance": [],
      "collapsed_sections": []
    },
    "kernelspec": {
      "name": "Python 3.8.6 64-bit",
      "display_name": "Python 3.8.6 64-bit",
      "metadata": {
        "interpreter": {
          "hash": "ac613f0bafa21738f99412658606b2cdb25619b766fce53a86722432d620944e"
        }
      }
    }
  },
  "cells": [
    {
      "cell_type": "markdown",
      "metadata": {
        "id": "1bRxWHr5e8kt"
      },
      "source": [
        "# **Курс \"Програмування на мові Python\"**\n",
        "\n",
        "##### Викладачі:\n",
        "##### Борисенко Павло Борисович\n",
        "##### Щьоголєв Максим Олегович"
      ]
    },
    {
      "cell_type": "markdown",
      "metadata": {
        "id": "buZUwUgFe-kx"
      },
      "source": [
        "## **Практичне зайняття №4**\n",
        "### Тема: \"Цикли. Робота зі списками\""
      ]
    },
    {
      "cell_type": "markdown",
      "metadata": {
        "id": "PUkxEn8EfAUe"
      },
      "source": [
        "### **Завдання 1 (1,5 бали)**\n",
        "\n"
      ]
    },
    {
      "source": [
        "Керівництво будівельної компанії вирішило підняти заробітні плати всім своїм працівникам на 30%. В залежності від спеціалізації та стажу працівники мають різну заробітну плату. Для підготовки звіту необхідно розрахувати нову заробітну плату для працівників компанії, а також суму індексації.\n",
        "\n",
        "Написати програму, яка буде генерувати таблицю для цього звіту. Початкова заробітна плата працівників подана у списку salary_list (у тисячах гривень).\n",
        "\n",
        "1. Для підрахунку невідомих значень та їх виведення повинен використовуватись цикл.\n",
        "\n",
        "2. Зарплата після індексації та сума індексації для працівників різних категорій повинні зберігатись у двох окремих списках. Порядок значень у кожному з нових списків повинен відповідати порядку значень у списку salary_list.\n",
        "\n",
        "3. Кожне підраховане числове значення має бути округлене до сотих. Для цього слід використати функцію round(). Приклад застосування цієї функції:\n",
        "\n",
        "```\n",
        "value_new = round(2.3741, 2)\n",
        "print(value_new)\n",
        "```\n",
        "\n",
        "4. Дані повинні виводитись у вигляді:\n",
        "\n",
        "**Salary table:**\n",
        "\n",
        "**7.3 9.49 2.19**\n",
        "\n",
        "**8.5 11.05 2.55**\n",
        "\n",
        "**...**\n",
        "\n",
        "salary_list = [[7.3, 8.5, 11, 12.7, 15.2, 21.12, 27.35]]"
      ],
      "cell_type": "markdown",
      "metadata": {}
    },
    {
      "cell_type": "code",
      "execution_count": 11,
      "metadata": {},
      "outputs": [
        {
          "output_type": "stream",
          "name": "stdout",
          "text": [
            "Salary table: \n\n7.3\t8.5\t11\t12.7\t15.2\t21.12\t27.35\t\n\n9.49\t11.05\t14.3\t16.51\t19.76\t27.46\t35.55\t\n\n0.09\t0.11\t0.14\t0.17\t0.2\t0.27\t0.36\t\n\n"
          ]
        }
      ],
      "source": [
        "\n",
        "#Intilization list of emploee salary\n",
        "salary_list = [7.3, 8.5, 11, 12.7, 15.2, 21.12, 27.35]\n",
        "new_salary_list = []\n",
        "sum_indexation = []\n",
        "#processing value salary\n",
        "for salary in salary_list:\n",
        "    temp = round(salary * 1.3, 2)       # processing new_salary \n",
        "    new_salary_list.append(temp)        # add in list new_salary\n",
        "    temp = round(temp / 100, 2)         # processing sum_indexation\n",
        "    sum_indexation_list.append(temp)    # add in list sum_indexation\n",
        "#output table\n",
        "print(\"Salary table:\", \"\\n\")\n",
        "for line in salary_list, new_salary_list, sum_indexation_list:\n",
        "    for column in line:\n",
        "        print(column, end=\"\\t\")\n",
        "    else:\n",
        "        print(\"\\n\")\n"
      ]
    },
    {
      "source": [
        "### **Завдання 2 (1,5 бали)**"
      ],
      "cell_type": "markdown",
      "metadata": {}
    },
    {
      "cell_type": "markdown",
      "metadata": {
        "id": "4n4p_pz7gFKM"
      },
      "source": [
        "Перелічуючи деякі предмети у тексті, ми ставимо між ними коми. В англійській мові слово and зазвичай ставлять між останнім та передостаннім словом у переліку (за виключенням випадку, коли у списку всього одне слово). Розглянемо 4 приклади:\n",
        "\n",
        "**apples**\n",
        "\n",
        "**apples and oranges**\n",
        "\n",
        "**apples, oranges and bananas**\n",
        "\n",
        "**apples, oranges, bananas and lemons**\n",
        "\n",
        "Напишіть програму, яка:\n",
        "\n",
        "1. отримує на вхід перелік деяких предметів, які користувач вводить з клавіатури, та записує їх у список у вигляді окремих елементів;\n",
        "\n",
        "2. виводить ці предмети у тій самій послідовності, в якій вони були введені, розставляючи коми та слово and так, як показано у прикладі."
      ]
    },
    {
      "cell_type": "code",
      "metadata": {
        "id": "Nv66Jkkpf-sI"
      },
      "source": [
        "list_x = []\n",
        "s = \"Enter list one element each, if it is the end of list , enter dot. \\n\"\n",
        "#input each element in list_x\n",
        "while True:\n",
        "    x = input(s + \"Enter element :\")\n",
        "    x = x.strip()\n",
        "    if x == '.':\n",
        "        break\n",
        "    elif x != \"\":\n",
        "        list_x.append(x)\n",
        "    s = \"\"\n",
        "size_list = len(list_x)\n",
        "#output list_x\n",
        "if size_list > 2:\n",
        "    for i in range(size_list - 2):\n",
        "        print(list_x[i] + \",\", end=\" \")\n",
        "if size_list >= 2:\n",
        "    print(list_x[-2], \"and\", list_x[-1])\n",
        "elif size_list == 1:\n",
        "    print(list_x[0])\n",
        "else:\n",
        "    print(\"empty list\")\n"
      ],
      "execution_count": 13,
      "outputs": [
        {
          "output_type": "stream",
          "name": "stdout",
          "text": [
            "12, 13, 14 and 15\n"
          ]
        }
      ]
    },
    {
      "cell_type": "code",
      "execution_count": null,
      "metadata": {},
      "outputs": [],
      "source": []
    }
  ]
}