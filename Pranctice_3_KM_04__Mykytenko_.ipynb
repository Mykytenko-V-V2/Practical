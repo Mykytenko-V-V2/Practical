{
  "nbformat": 4,
  "nbformat_minor": 0,
  "metadata": {
    "colab": {
      "name": "Pranctice_3_KM-01_<name>.ipynb",
      "provenance": [],
      "collapsed_sections": []
    },
    "kernelspec": {
      "name": "Python 3.8.6 64-bit",
      "display_name": "Python 3.8.6 64-bit",
      "metadata": {
        "interpreter": {
          "hash": "ac613f0bafa21738f99412658606b2cdb25619b766fce53a86722432d620944e"
        }
      }
    }
  },
  "cells": [
    {
      "cell_type": "markdown",
      "metadata": {
        "id": "1bRxWHr5e8kt"
      },
      "source": [
        "# **Курс \"Програмування на мові Python\"**\n",
        "\n",
        "##### Викладачі:\n",
        "##### Борисенко Павло Борисович\n",
        "##### Щьоголєв Максим Олегович"
      ]
    },
    {
      "cell_type": "markdown",
      "metadata": {
        "id": "buZUwUgFe-kx"
      },
      "source": [
        "## **Практичне зайняття №3**\n",
        "### Тема: \"Перші програми на Python. Введення та виведення даних. Інструкція if\""
      ]
    },
    {
      "cell_type": "markdown",
      "metadata": {
        "id": "PUkxEn8EfAUe"
      },
      "source": [
        "### **Завдання 1 (1,5 бали)**\n",
        "\n"
      ]
    },
    {
      "cell_type": "markdown",
      "metadata": {
        "id": "M7jjwxAvfKa2"
      },
      "source": [
        "**Написати програму введення та виведення даних про одержувача листа (посилки) за стандартами Укрпошти.**\n",
        "\n",
        "1. Усі запити на введення даних повинні супроводжуватись відповідними підказками-поясненнями (бажано англійською мовою).\n",
        "\n",
        "2. Дані мають виводитись так, як показано нижче (з урахуванням кількості рядків та послідовності даних у кожному з них).\n",
        "\n",
        "3. Дані, виділені жирним шрифтом, повинні вводитись із клавіатури. Всього має бути 9 окремих команд введення даних\n",
        "\n",
        "4. Назви змінних повинні бути інформативними та оформленими відповідно до правил іменування змінних\n",
        "\n",
        "5. Додати 2 коментарі, що вказують на блоки введення та виведення даних.\n",
        "\n",
        "***Формат виведення даних:***\n",
        "\n",
        "(1) **Ім'я** (2) **Прізвище**\n",
        "\n",
        "(3) **Номер телефону**\n",
        "\n",
        "Str. (4) **Назва вулиці** (5) **Номер будинку**, ap. (6) **Номер квартири**, (7) **Місто**\n",
        "\n",
        "(8) **Індекс**\n",
        "\n",
        "(9) **Країна**"
      ]
    },
    {
      "cell_type": "code",
      "metadata": {
        "id": "hEJG5C3_fJk9"
      },
      "source": [
        "#input user's information\n",
        "user_name = input(\"Enter your name\")\n",
        "user_surname = input(\"Enter your surname\")\n",
        "user_number = input(\"Enter your number\")\n",
        "user_street = input(\"Enter your street\")\n",
        "user_house_num = input(\"Enter your house number\")\n",
        "user_flat_num = input(\"Enter your flat number\")\n",
        "user_town = input(\"Enter your town\")\n",
        "user_index = input(\"Enter your post index\")\n",
        "user_country = input(\"Enter your country\")\n",
        "#output format user's informaition\n",
        "print(\n",
        "    user_name,\n",
        "    user_surname,\n",
        "    \"\\n\" + user_number,\n",
        "    \"\\nStr.\" + user_street,\n",
        "    user_house_num,\n",
        "    \"ap.\"+user_flat_num,\n",
        "    user_town,\n",
        "    \"\\n\" + user_index,\n",
        "    \"\\n\" + user_country\n",
        ")"
      ],
      "execution_count": 2,
      "outputs": [
        {
          "output_type": "stream",
          "name": "stdout",
          "text": [
            "Max Bober \n0990000000 \nStr.shevchenka 50 ap.32 X \n36508 \nKNR\n"
          ]
        }
      ]
    },
    {
      "cell_type": "markdown",
      "metadata": {
        "id": "WmnpKrmPf689"
      },
      "source": [
        "### **Завдання 2 (1,5 бали)**"
      ]
    },
    {
      "cell_type": "markdown",
      "metadata": {
        "id": "4n4p_pz7gFKM"
      },
      "source": [
        "Відповідно до чинної системи оцінювання в КПІ, рейтингові бали R студентів переводяться в оцінки за такою таблицею:\n",
        "\n",
        "R | Grade\n",
        "--- | ---\n",
        "95 - 100 | Excellent\n",
        "85 - 94 | Very good\n",
        "75 - 84 | Good\n",
        "65 - 74 | Satisfactory\n",
        "60 - 64 | Marginal\n",
        "0 - 59 | Unsatisfactory\n",
        "\n",
        "Напишіть програму, яка буде зчитувати рейтинговий бал R, введений користувачем, та виводити відповідну оцінку як частину змістовного повідомлення. Наприклад, якщо користувач вводить рейтинговий бал R 78, ваша програма повинна показати оцінку Good. Програма також повинна виводити повідомлення про помилку, якщо користувач введе від'ємне число або число, більше за 100."
      ]
    },
    {
      "cell_type": "code",
      "execution_count": 3,
      "metadata": {},
      "outputs": [
        {
          "output_type": "stream",
          "name": "stdout",
          "text": [
            "Unsatisfactory\n"
          ]
        }
      ],
      "source": [
        "grade = int(input(\"Enter your raiting\"))\n",
        "if grade > 100:\n",
        "    print(\"You enter number more than 100\")\n",
        "elif grade > 94:\n",
        "    print(\"Excelent\")\n",
        "elif grade > 84:\n",
        "    print(\"Very good\")\n",
        "elif grade > 74:\n",
        "    print(\"Good\")\n",
        "elif grade > 64:\n",
        "    print(\"Satisfactory\")\n",
        "elif grade > 59:\n",
        "    print(\"Marginal\")\n",
        "elif grade >= 0:\n",
        "    print(\"Unsatisfactory\")\n",
        "else:\n",
        "    print(\"You enter negative number\")"
      ]
    },
    {
      "cell_type": "markdown",
      "metadata": {
        "id": "b593txPwotgN"
      },
      "source": [
        "Часто говорять, що один календарний рік еквівалентний 7 рокам для собаки. Однак таке просте перетворення не враховує того, що собаки досягають повноліття приблизно у 2 роки. Тому деякі люди вважать, що краще рахувати кожен з перших двох календарних років як 10,5 років для собаки, а потім рахувати кожен наступний календарний рік як 4 роки для собаки.\n",
        "\n",
        "Напишіть програму, яка конвертує календарні роки у \"собачі\", як було показано в попередньому абзаці. Переконайтесь, що ваша програма працює правильно, конвертуючи перші два календарні роки та всі подальші. Ваша програма також повинна виводити повідомлення про помилку, якщо користувач введе від'ємне число."
      ]
    },
    {
      "cell_type": "code",
      "metadata": {
        "id": "PA_E_H0Zosu0"
      },
      "source": [
        "dog_age = int(input(\"Enter dog's age\"))\n",
        "if dog_age > 0:\n",
        "    dogs_years_1 = dog_age * 7\n",
        "    dogs_years_2 = ((dog_age - 2)*4 + 21 if dog_age > 2 else 10)\n",
        "    print(\"Dog's years equal\", dogs_years_1, \"years or\", dogs_years_2,\"years as human\")\n",
        "else:\n",
        "    print(\"You enter negative number\")"
      ],
      "execution_count": 7,
      "outputs": [
        {
          "output_type": "stream",
          "name": "stdout",
          "text": [
            "Dog's years equal 70 years or 53 years as human\n"
          ]
        }
      ]
    },
    {
      "cell_type": "code",
      "execution_count": null,
      "metadata": {},
      "outputs": [],
      "source": []
    }
  ]
}