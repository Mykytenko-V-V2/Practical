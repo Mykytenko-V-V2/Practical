{
  "nbformat": 4,
  "nbformat_minor": 0,
  "metadata": {
    "colab": {
      "name": "Practice_5_KM_04_.ipynb",
      "provenance": [],
      "collapsed_sections": []
    },
    "kernelspec": {
      "name": "Python 3.8.6 64-bit",
      "display_name": "Python 3.8.6 64-bit",
      "metadata": {
        "interpreter": {
          "hash": "ac613f0bafa21738f99412658606b2cdb25619b766fce53a86722432d620944e"
        }
      }
    }
  },
  "cells": [
    {
      "cell_type": "markdown",
      "metadata": {
        "id": "FMqboNwO4rVs"
      },
      "source": [
        "# **Курс \"Програмування на мові Python\"**\n",
        "\n",
        "##### Викладачі:\n",
        "##### Борисенко Павло Борисович\n",
        "##### Щьоголєв Максим Олегович\n"
      ]
    },
    {
      "cell_type": "markdown",
      "metadata": {
        "id": "A2T6MigL5Z06"
      },
      "source": [
        "## **Практичне зайняття №5**\n",
        "### Тема: \"Робота з кортежами, множинами та словниками\""
      ]
    },
    {
      "cell_type": "markdown",
      "metadata": {
        "id": "4AV5CN7N4xja"
      },
      "source": [
        "### **Завдання 1 (1,5 бали)**\n",
        "\n",
        "Напишіть програму, яка визначала б, чи можна з літер однієї фрази скласти іншу фразу. Наприклад:\n",
        "\n",
        "\"William Shakespeare\" -> \"A small spark\"\n",
        "\n",
        "Перша фраза містить 11 унікальних літер (хоча деякі повторюються): a, e, h, i, k, l, m, p, r, s та w. Друга фраза містить 7 унікальних літер: a, k, l, m, p, r та s. Кожна з літер другої фрази зустрічається принаймні один раз у першій фразі.\n",
        "\n",
        "1. Обидві фрази повинні вводитись користувачем з клавіатури.\n",
        "\n",
        "2. Скористайтесь властивістю множин у мові програмування Python для виділення колекції унікальних літер.\n",
        "\n",
        "3. У множину не повинні потрапити пробіли, розділові знаки та інші символи, що не є літерами (скористайтесь методом **isalpha()**). Також усі літери мають бути переведені в нижній або верхній регістр (скористайтесь методами **lower()** або **upper()**).\n",
        "\n",
        "4. Зверніть увагу на те, що літери як в першій, так і вдругій фразі можуть повторюватись. Однак множина унікальних літер другої фрази повинна бути підмножиною множини унікальних літер першої фрази.\n",
        "\n",
        "5. У складі змістовного повідомлення програма повинна виводити множину літер першої фрази, множину літер другої фрази, а також змістовне повідомлення про те, чи можна скласти з літер першої фрази другу фразу."
      ]
    },
    {
      "source": [
        "# return set letter from phrase\n",
        "def this_letter_set(phrase):\n",
        "    letterset = set()\n",
        "    for char in phrase:\n",
        "        if char.isalpha():\n",
        "            letterset.add(char.upper())\n",
        "    return letterset\n",
        "# input\n",
        "print(\"Can set letters from fist phrase make up second phrase?\")\n",
        "phrase1 = input(\"Enter your first phrase: \")\n",
        "phrase2 = input(\"Enter your second phrase: \")\n",
        "# change type phrase1 and phrase2\n",
        "phrase1 = this_letter_set(phrase1)\n",
        "phrase2 = this_letter_set(phrase2)\n",
        "# output\n",
        "if phrase1.issuperset(phrase2):\n",
        "    print(\"YES\")\n",
        "else:\n",
        "    print(\"NO\")"
      ],
      "cell_type": "code",
      "metadata": {
        "id": "9Mesp1jV4xjb"
      },
      "execution_count": 5,
      "outputs": [
        {
          "output_type": "stream",
          "name": "stdout",
          "text": [
            "Can set letters from fist phrase make second phrase?\n",
            "YES\n"
          ]
        }
      ]
    },
    {
      "cell_type": "markdown",
      "metadata": {
        "id": "y7pQFLvSCkym"
      },
      "source": [
        "### **Завдання 2 (1,5 бали)**\n",
        "\n",
        "У Канаді поштові індекси мають специфічну форму. Вони складаються з трьох символів. Перший символ вказує на провінцію. Другий символ вказує на те, у міській чи у сільській місцевості знаходиться адресат. Якщо у сільській місцевості - це 0. Якщо у міській - будь-яка інша цифра. Провінція позначається великою латинською літерою. Повний перелік провінцій на літер, що їм відповідають, подано у таблиці.\n",
        "\n",
        "Провінція | Перший символ поштового індекса\n",
        "--- | ---\n",
        "Newfoundland | A\n",
        "Nova Scotia | B\n",
        "Prince Edward Island | C\n",
        "New Brunswick | E\n",
        "Quebec | G, H and J\n",
        "Ontario | K, L, M, N and P\n",
        "Manitoba | R\n",
        "Saskatchewan | S\n",
        "Alberta | T\n",
        "British Columbia | V\n",
        "Nunavut | X\n",
        "Northwest Territories | X\n",
        "Yukon | Y\n",
        "\n",
        "Напишіть програму, яка зчитує поштовий індекс, введений користувачем, та виводить у складі змістовного повідомлення провінцію адресата та інформацію про те, у міській чи у сільській місцевості він знаходиться. Наприклад, якщо користувач вводить T2N, програма повинна визначити, що адресат знаходиться у міській місцевості провінції Альберта. Якщо він вводить X0A, адресат знаходиться у сільській місцевості провінції Нанавут або Північних Територій (зверніть увагу на те, що літера X повторюється для двох провінцій). Третя літера для нас неважлива. Зауважте, що літери D, F, I, O, Q, U, W, та Z не позначають жодної з провінцій Канади.\n",
        "\n",
        "1. Скористайтесь словником для збереження усіх провінцій та літер, що їм відповідають.\n",
        "\n",
        "2. Користувач повинен ввести рівно 3 символи. Перший і останній символи мають бути літерами, другий - цифрою. Для перевірки скористайтесь методами **isalpha()** та **isdigit()**. Якщо користувач введе не 3 символи, а більше чи менше, або ж послідовність літер та цифр не буде співпадати з шаблоном, програма має вивести повідомлення про помилку.\n",
        "\n",
        "3. Програма повинна приймати літери як верхнього, так і нижнього регістрів. Однак виводити - лише у верхньому регістрі (скористайтесь методами **lower()** або **upper()**)."
      ]
    },
    {
      "cell_type": "code",
      "metadata": {
        "id": "EVY800vg4xjg"
      },
      "source": [
        "# dictionary for searching  the mail index of teretories\n",
        "site = {\n",
        "    \"A\":\"Newfoundland\",\n",
        "    \"B\":\"Nova Scotia\",\n",
        "    \"C\":\"Prince Edward Island\",\n",
        "    \"E\":\"New Brunswick\",\n",
        "    \"G\":\"Quebec\",\n",
        "    \"H\":\"Quebec\",\n",
        "    \"J\":\"Quebec\",\n",
        "    \"K\":\"Ontario\",\n",
        "    \"L\":\"Ontario\",\n",
        "    \"M\":\"Ontario\",\n",
        "    \"N\":\"Ontario\",\n",
        "    \"P\":\"Ontario\",\n",
        "    \"R\":\"Manitoba\",\n",
        "    \"S\":\"Saskatchewan\",\n",
        "    \"T\":\"Alberta\",\n",
        "    \"V\":\"British Columbia\",\n",
        "    \"X\":[\"Nunavut\",\"Northwest Territories\"], \n",
        "    \"Y\":\"Yukon\",\n",
        "}\n",
        "# input\n",
        "index = input()\n",
        "if len(index) != 3:\n",
        "    print(\"It's not the mail index!\")\n",
        "elif not(index[0].isalpha() and index[1].isdigit() and index[2].isalpha()):\n",
        "    print(\"It's incorrect form the mail index\")\n",
        "# search teritories for the mail index\n",
        "localtion = site.get(index[0].upper())\n",
        "# output\n",
        "if localtion:\n",
        "    if type(localtion) == list:\n",
        "        localtion = \" or \".join(localtion) \n",
        "    if index[1] == \"0\":\n",
        "       print(\"In \" + localtion, \"it's willage\", sep = \", \")\n",
        "    else:\n",
        "        print(\"In \" + localtion, \"it's town\" , sep = \", \")\n",
        "else:\n",
        "    print(\"This mail index doesn't exist\")"
      ],
      "execution_count": 8,
      "outputs": [
        {
          "output_type": "stream",
          "name": "stdout",
          "text": [
            "New Brunswick, town\n"
          ]
        }
      ]
    },
    {
      "cell_type": "code",
      "execution_count": null,
      "metadata": {},
      "outputs": [],
      "source": []
    }
  ]
}